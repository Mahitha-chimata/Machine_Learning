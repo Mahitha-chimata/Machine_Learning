{
 "cells": [
  {
   "cell_type": "markdown",
   "id": "38f76d50",
   "metadata": {},
   "source": [
    "## Numpy"
   ]
  },
  {
   "cell_type": "code",
   "execution_count": 1,
   "id": "c1339809",
   "metadata": {},
   "outputs": [
    {
     "name": "stdout",
     "output_type": "stream",
     "text": [
      "Array 1 :  [1 2 3 4 5]\n",
      "Array 2 :  [2 3 4 5 6]\n",
      "After multiplying :  [ 2  6 12 20 30]\n"
     ]
    }
   ],
   "source": [
    "import numpy as np\n",
    "arr1=np.array([1,2,3,4,5])\n",
    "arr2=np.array([2,3,4,5,6])\n",
    "arr3=np.multiply(arr1,arr2)\n",
    "print(\"Array 1 : \",arr1)\n",
    "print(\"Array 2 : \",arr2)\n",
    "print(\"After multiplying : \",arr3)"
   ]
  },
  {
   "cell_type": "code",
   "execution_count": 2,
   "id": "fc6f662d",
   "metadata": {},
   "outputs": [
    {
     "name": "stdout",
     "output_type": "stream",
     "text": [
      "original array :  [ 4.  5. nan  9.  3. nan]\n",
      "To find missing values [False False  True False False  True]\n"
     ]
    }
   ],
   "source": [
    "arr=np.array([4,5,np.nan,9,3,np.nan])\n",
    "print(\"original array : \",arr)\n",
    "print(\"To find missing values\",np.isnan(arr))"
   ]
  },
  {
   "cell_type": "code",
   "execution_count": 3,
   "id": "17b6fb7b",
   "metadata": {},
   "outputs": [
    {
     "name": "stdout",
     "output_type": "stream",
     "text": [
      "[False  True  True  True  True]\n"
     ]
    }
   ],
   "source": [
    "#to test whether each element of a 1-D array is also present in a second array.\n",
    "print(np.in1d(arr1,arr2))"
   ]
  },
  {
   "cell_type": "code",
   "execution_count": 5,
   "id": "cbabfc7d",
   "metadata": {},
   "outputs": [
    {
     "name": "stdout",
     "output_type": "stream",
     "text": [
      "[1 2 3 4 5]\n",
      "[1. 2. 3. 4. 5.]\n"
     ]
    }
   ],
   "source": [
    "print(arr1)\n",
    "#to save into the file\n",
    "np.savetxt(\"file1.txt\",arr1)\n",
    "#to load from the txt file\n",
    "print(np.loadtxt(\"file1.txt\"))"
   ]
  },
  {
   "cell_type": "code",
   "execution_count": 6,
   "id": "c541b040",
   "metadata": {},
   "outputs": [
    {
     "name": "stdout",
     "output_type": "stream",
     "text": [
      "[2.5        2.63793103 2.77586207 2.9137931  3.05172414 3.18965517\n",
      " 3.32758621 3.46551724 3.60344828 3.74137931 3.87931034 4.01724138\n",
      " 4.15517241 4.29310345 4.43103448 4.56896552 4.70689655 4.84482759\n",
      " 4.98275862 5.12068966 5.25862069 5.39655172 5.53448276 5.67241379\n",
      " 5.81034483 5.94827586 6.0862069  6.22413793 6.36206897 6.5       ]\n"
     ]
    }
   ],
   "source": [
    "#The numpy.linspace function is used to create an array of evenly spaced values over a specified range\n",
    "print(np.linspace(2.5,6.5,30))"
   ]
  },
  {
   "cell_type": "markdown",
   "id": "dfaba3a3",
   "metadata": {},
   "source": [
    "## Pandas"
   ]
  },
  {
   "cell_type": "code",
   "execution_count": 18,
   "id": "14cfbb2d",
   "metadata": {},
   "outputs": [
    {
     "name": "stdout",
     "output_type": "stream",
     "text": [
      "Original Series:\n",
      "0    [10, 20, 30, 40]\n",
      "1            [50, 60]\n",
      "2        [70, 80, 90]\n",
      "dtype: object\n",
      "\n",
      "Converted Series:\n",
      "0    10\n",
      "0    20\n",
      "0    30\n",
      "0    40\n",
      "1    50\n",
      "1    60\n",
      "2    70\n",
      "2    80\n",
      "2    90\n",
      "dtype: object\n"
     ]
    }
   ],
   "source": [
    "import pandas as pd\n",
    "series_list = pd.Series([[10, 20, 30, 40], [50, 60], [70, 80, 90]])\n",
    "print(\"Original Series:\")\n",
    "print(series_list)\n",
    "\n",
    "print(\"\\nConverted Series:\")\n",
    "print(series_list.explode())"
   ]
  },
  {
   "cell_type": "code",
   "execution_count": 4,
   "id": "00cf8c8e",
   "metadata": {},
   "outputs": [
    {
     "name": "stdout",
     "output_type": "stream",
     "text": [
      "Original Series:\n",
      "X    15\n",
      "Y    25\n",
      "Z    35\n",
      "W    45\n",
      "K    55\n",
      "dtype: int64\n",
      "\n",
      "Subset Series based on given condition:\n",
      "X    15\n",
      "Y    25\n",
      "Z    35\n",
      "dtype: int64\n"
     ]
    }
   ],
   "source": [
    "import pandas as pd\n",
    "\n",
    "data = {'X': 15, 'Y': 25, 'Z': 35, 'W': 45, 'K': 55}\n",
    "series = pd.Series(data)\n",
    "condition = series <= 35\n",
    "\n",
    "subset=series[condition]\n",
    "\n",
    "print(\"Original Series:\")\n",
    "print(series)\n",
    "\n",
    "print(\"\\nSubset Series based on given condition:\")\n",
    "print(subset)"
   ]
  },
  {
   "cell_type": "code",
   "execution_count": 5,
   "id": "d03b25aa",
   "metadata": {},
   "outputs": [
    {
     "name": "stdout",
     "output_type": "stream",
     "text": [
      "Original Series:\n",
      "0    X\n",
      "1    Y\n",
      "2    X\n",
      "3    Z\n",
      "4    Y\n",
      "5    X\n",
      "6    X\n",
      "7    Z\n",
      "8    Z\n",
      "dtype: object\n",
      "\n",
      "Modified Series:\n",
      "0        X\n",
      "1    Other\n",
      "2        X\n",
      "3    Other\n",
      "4    Other\n",
      "5        X\n",
      "6        X\n",
      "7    Other\n",
      "8    Other\n",
      "dtype: object\n"
     ]
    }
   ],
   "source": [
    "import pandas as pd\n",
    "\n",
    "data = {'Category': ['X', 'Y', 'X', 'Z', 'Y', 'X', 'X', 'Z', 'Z']}\n",
    "series = pd.Series(data['Category'])\n",
    "most_frequent_value = series.mode()[0]\n",
    "modified_series = series.where(series == most_frequent_value, 'Other')\n",
    "\n",
    "print(\"Original Series:\")\n",
    "print(series)\n",
    "\n",
    "print(\"\\nModified Series:\")\n",
    "print(modified_series)"
   ]
  },
  {
   "cell_type": "code",
   "execution_count": 6,
   "id": "5fcb9a88",
   "metadata": {},
   "outputs": [
    {
     "name": "stdout",
     "output_type": "stream",
     "text": [
      "Original Series:\n",
      "0     1\n",
      "1     2\n",
      "2     3\n",
      "3    20\n",
      "4    25\n",
      "5     4\n",
      "6     5\n",
      "7    10\n",
      "dtype: int64\n",
      "\\Positions of numbers that are multiples of 5:\n",
      "Int64Index([3, 4, 6, 7], dtype='int64')\n"
     ]
    }
   ],
   "source": [
    "import pandas as pd\n",
    "data = {'Numbers': [1, 2, 3, 20, 25, 4, 5, 10]}\n",
    "series = pd.Series(data['Numbers'])\n",
    "multiples = series.index[series % 5 == 0]\n",
    "\n",
    "print(\"Original Series:\")\n",
    "print(series)\n",
    "\n",
    "print(\"\\Positions of numbers that are multiples of 5:\")\n",
    "print(multiples)"
   ]
  },
  {
   "cell_type": "code",
   "execution_count": 10,
   "id": "f8c087bb",
   "metadata": {},
   "outputs": [
    {
     "name": "stdout",
     "output_type": "stream",
     "text": [
      "Original Series:\n",
      "0    Mahitha\n",
      "1     Bhavya\n",
      "2        Amy\n",
      "3    Epsitha\n",
      "4       veda\n",
      "dtype: object\n",
      "\n",
      "Number of characters in each word:\n",
      "0    7\n",
      "1    6\n",
      "2    3\n",
      "3    7\n",
      "4    4\n",
      "dtype: int64\n"
     ]
    }
   ],
   "source": [
    "import pandas as pd\n",
    "data = {'Text': ['Mahitha', 'Bhavya', 'Amy', 'Epsitha', 'veda']}\n",
    "series = pd.Series(data['Text'])\n",
    "length = series.str.len()\n",
    "\n",
    "print(\"Original Series:\")\n",
    "print(series)\n",
    "\n",
    "print(\"\\nNumber of characters in each word:\")\n",
    "print(length)"
   ]
  },
  {
   "cell_type": "code",
   "execution_count": 9,
   "id": "18c1d073",
   "metadata": {},
   "outputs": [
    {
     "name": "stdout",
     "output_type": "stream",
     "text": [
      "Original Series:\n",
      "0    2022-01\n",
      "1    2021-02\n",
      "2    2024-03\n",
      "3    2023-04\n",
      "dtype: object\n",
      "\n",
      "New Resulting Dates:\n",
      "0   2022-01-10\n",
      "1   2021-02-10\n",
      "2   2024-03-10\n",
      "3   2023-04-10\n",
      "dtype: datetime64[ns]\n"
     ]
    }
   ],
   "source": [
    "import pandas as pd\n",
    "data = {'YearMonth': ['2022-01', '2021-02', '2024-03', '2023-04']}\n",
    "series = pd.Series(data['YearMonth'])\n",
    "month = 10\n",
    "dates = pd.to_datetime(series + '-' + str(month), format='%Y-%m-%d')\n",
    "\n",
    "print(\"Original Series:\")\n",
    "print(series)\n",
    "\n",
    "print(\"\\nNew Resulting Dates:\")\n",
    "print(dates)"
   ]
  },
  {
   "cell_type": "code",
   "execution_count": 11,
   "id": "83f08f8f",
   "metadata": {},
   "outputs": [
    {
     "name": "stdout",
     "output_type": "stream",
     "text": [
      "             Name  Age Branch\n",
      "Student1  Mahitha   25    CSE\n",
      "Student2  Cherish   27    ECE\n",
      "Student3  Sanjana   22    CSE\n",
      "Student4    Naren   21  civil\n"
     ]
    }
   ],
   "source": [
    "import pandas as pd\n",
    "\n",
    "data = {'Name': ['Mahitha', 'Cherish', 'Sanjana', 'Naren'],\n",
    "        'Age': [25, 27, 22, 21],\n",
    "        'Branch': ['CSE', 'ECE', 'CSE', 'civil']}\n",
    "labels = ['Student1', 'Student2', 'Student3', 'Student4']\n",
    "df = pd.DataFrame(data, index=labels)\n",
    "print(df)\n"
   ]
  },
  {
   "cell_type": "code",
   "execution_count": 13,
   "id": "33b129cc",
   "metadata": {},
   "outputs": [
    {
     "name": "stdout",
     "output_type": "stream",
     "text": [
      "DataFrame:\n",
      "      Name  Attempts  Score\n",
      "0  Mahitha         4     89\n",
      "1  Sanjana         1     95\n",
      "2  Cherish         2     70\n",
      "3   Bhavya         3     85\n",
      "4      Amy         4     92\n",
      "\n",
      "Selected rows where the number of attempts is greater than 2:\n",
      "      Name  Attempts  Score\n",
      "0  Mahitha         4     89\n",
      "3   Bhavya         3     85\n",
      "4      Amy         4     92\n"
     ]
    }
   ],
   "source": [
    "import pandas as pd\n",
    "data = {'Name': ['Mahitha', 'Sanjana', 'Cherish', 'Bhavya', 'Amy'],\n",
    "            'Attempts': [4, 1, 2, 3, 4],\n",
    "            'Score': [89, 95, 70, 85, 92]}\n",
    "df = pd.DataFrame(data)\n",
    "result= df[df['Attempts'] > 2]\n",
    "\n",
    "print(\"DataFrame:\")\n",
    "print(df)\n",
    "\n",
    "print(\"\\nSelected rows where the number of attempts is greater than 2:\")\n",
    "print(result)\n"
   ]
  },
  {
   "cell_type": "code",
   "execution_count": 14,
   "id": "049f4eba",
   "metadata": {},
   "outputs": [
    {
     "name": "stdout",
     "output_type": "stream",
     "text": [
      "DataFrame with New Row:\n",
      "      Name\n",
      "0  Mahitha\n",
      "1  Sanjana\n",
      "2  Cherish\n",
      "3      Joy\n",
      "\n",
      "Original DataFrame after Deleting 'Joy':\n",
      "      Name\n",
      "0  Mahitha\n",
      "1  Sanjana\n",
      "2  Cherish\n"
     ]
    }
   ],
   "source": [
    "import pandas as pd\n",
    "\n",
    "data = {'Name': ['Mahitha', 'Sanjana', 'Cherish', 'Joy']}\n",
    "df = pd.DataFrame(data)\n",
    "row_values = {'Name': 'Amy'}\n",
    "\n",
    "print(\"DataFrame with New Row:\")\n",
    "print(df)\n",
    "\n",
    "df = df.drop(df[df['Name'] == 'Joy'].index)\n",
    "print(\"\\nOriginal DataFrame after Deleting 'Joy':\")\n",
    "print(df)"
   ]
  },
  {
   "cell_type": "code",
   "execution_count": 15,
   "id": "0f650f6b",
   "metadata": {},
   "outputs": [
    {
     "name": "stdout",
     "output_type": "stream",
     "text": [
      "New DataFrame:\n",
      "      Name  Attempts  Score\n",
      "0  Mahitha         2     85\n",
      "1  Sanjana         3     78\n",
      "2  Cherish         1     92\n",
      "3   Bhavya         4     89\n",
      "\n",
      "Sorted DataFrame:\n",
      "      Name  Attempts  Score\n",
      "1  Sanjana         3     78\n",
      "0  Mahitha         2     85\n",
      "2  Cherish         1     92\n",
      "3   Bhavya         4     89\n"
     ]
    }
   ],
   "source": [
    "import pandas as pd\n",
    "data = {'Name': ['Mahitha', 'Sanjana', 'Cherish', 'Bhavya'],\n",
    "            'Attempts': [2, 3, 1, 4],\n",
    "            'Score': [85, 78, 92, 89]}\n",
    "df = pd.DataFrame(data)\n",
    "\n",
    "print(\"New DataFrame:\")\n",
    "print(df)\n",
    "\n",
    "df = df.sort_values(by=['Name', 'Score'], ascending=[False, True])\n",
    "\n",
    "print(\"\\nSorted DataFrame:\")\n",
    "print(df)\n"
   ]
  },
  {
   "cell_type": "code",
   "execution_count": 16,
   "id": "04827cf5",
   "metadata": {},
   "outputs": [
    {
     "name": "stdout",
     "output_type": "stream",
     "text": [
      "Sorted DataFrame:\n"
     ]
    },
    {
     "data": {
      "text/html": [
       "<div>\n",
       "<style scoped>\n",
       "    .dataframe tbody tr th:only-of-type {\n",
       "        vertical-align: middle;\n",
       "    }\n",
       "\n",
       "    .dataframe tbody tr th {\n",
       "        vertical-align: top;\n",
       "    }\n",
       "\n",
       "    .dataframe thead th {\n",
       "        text-align: right;\n",
       "    }\n",
       "</style>\n",
       "<table border=\"1\" class=\"dataframe\">\n",
       "  <thead>\n",
       "    <tr style=\"text-align: right;\">\n",
       "      <th></th>\n",
       "      <th>name</th>\n",
       "      <th>score</th>\n",
       "      <th>qualify</th>\n",
       "    </tr>\n",
       "  </thead>\n",
       "  <tbody>\n",
       "    <tr>\n",
       "      <th>1</th>\n",
       "      <td>Sanjana</td>\n",
       "      <td>85</td>\n",
       "      <td>yes</td>\n",
       "    </tr>\n",
       "    <tr>\n",
       "      <th>0</th>\n",
       "      <td>Mahitha</td>\n",
       "      <td>90</td>\n",
       "      <td>yes</td>\n",
       "    </tr>\n",
       "    <tr>\n",
       "      <th>2</th>\n",
       "      <td>Cherish</td>\n",
       "      <td>75</td>\n",
       "      <td>no</td>\n",
       "    </tr>\n",
       "    <tr>\n",
       "      <th>3</th>\n",
       "      <td>Amy</td>\n",
       "      <td>95</td>\n",
       "      <td>yes</td>\n",
       "    </tr>\n",
       "  </tbody>\n",
       "</table>\n",
       "</div>"
      ],
      "text/plain": [
       "      name  score qualify\n",
       "1  Sanjana     85     yes\n",
       "0  Mahitha     90     yes\n",
       "2  Cherish     75      no\n",
       "3      Amy     95     yes"
      ]
     },
     "execution_count": 16,
     "metadata": {},
     "output_type": "execute_result"
    }
   ],
   "source": [
    "\n",
    "data = {'name': ['Mahitha', 'Sanjana', 'Cherish', 'Amy'],\n",
    "        'score': [90, 85, 75, 95],\n",
    "        'qualify': ['yes', 'yes', 'no', 'yes']}\n",
    "\n",
    "df = pd.DataFrame(data)\n",
    "df_sorted = df.sort_values(by=['name', 'score'], ascending=[False, True])\n",
    "print(\"Sorted DataFrame:\")\n",
    "df_sorted\n"
   ]
  },
  {
   "cell_type": "code",
   "execution_count": 17,
   "id": "fa207f78",
   "metadata": {},
   "outputs": [
    {
     "name": "stdout",
     "output_type": "stream",
     "text": [
      "DataFrame without infinite values:\n",
      "  Values\n",
      "0    1.0\n",
      "1    2.0\n",
      "2   <NA>\n",
      "3    4.0\n",
      "4   <NA>\n"
     ]
    }
   ],
   "source": [
    "with_inf = pd.DataFrame({'Values': [1, 2, float('inf'), 4, float('-inf')]})\n",
    "without_inf = with_inf.replace([float('inf'), float('-inf')], pd.NA)\n",
    "\n",
    "print(\"DataFrame without infinite values:\")\n",
    "print(without_inf)\n"
   ]
  },
  {
   "cell_type": "markdown",
   "id": "2cdb06dd",
   "metadata": {},
   "source": [
    "# Lab-2"
   ]
  },
  {
   "cell_type": "code",
   "execution_count": 4,
   "id": "b2246b14",
   "metadata": {},
   "outputs": [],
   "source": [
    "import numpy as np\n",
    "x = np.arange(0,100)\n",
    "y = x*2\n",
    "z = x**2"
   ]
  },
  {
   "cell_type": "code",
   "execution_count": 5,
   "id": "85ffbdd3",
   "metadata": {},
   "outputs": [
    {
     "data": {
      "text/plain": [
       "Text(0.5, 1.0, 'title')"
      ]
     },
     "execution_count": 5,
     "metadata": {},
     "output_type": "execute_result"
    },
    {
     "data": {
      "image/png": "[encoded data removed]",
      "text/plain": [
       "<Figure size 432x288 with 1 Axes>"
      ]
     },
     "metadata": {
      "needs_background": "light"
     },
     "output_type": "display_data"
    }
   ],
   "source": [
    "import matplotlib.pyplot as plt\n",
    "%matplotlib inline\n",
    "\n",
    "fig = plt.figure()\n",
    "ax = fig.add_axes([0,0,1,1])\n",
    "ax.plot(x,y)\n",
    "ax.set_xlabel('x')\n",
    "ax.set_ylabel('y')\n",
    "ax.set_title('title')"
   ]
  },
  {
   "cell_type": "code",
   "execution_count": 6,
   "id": "1f09d988",
   "metadata": {},
   "outputs": [
    {
     "data": {
      "image/png": "[encoded data removed]",
      "text/plain": [
       "<Figure size 432x288 with 2 Axes>"
      ]
     },
     "metadata": {
      "needs_background": "light"
     },
     "output_type": "display_data"
    }
   ],
   "source": [
    "fig = plt.figure()\n",
    "ax1 = fig.add_axes([0,0,1,1])\n",
    "ax2 = fig.add_axes([0.2,0.5,.2,.2])"
   ]
  },
  {
   "cell_type": "code",
   "execution_count": 24,
   "id": "8837442d",
   "metadata": {},
   "outputs": [
    {
     "name": "stdout",
     "output_type": "stream",
     "text": [
      "Values of X:\n",
      "1 2 3 4 5 6 7 8 9 10 11 12 13 14 15 16 17 18 19 20 21 22 23 24 25 26 27 28 29 30 31 32 33 34 35 36 37 38 39 40 41 42 43 44 45 46 47 48 49\n",
      "Values of Y (thrice of X):\n",
      "[3, 6, 9, 12, 15, 18, 21, 24, 27, 30, 33, 36, 39, 42, 45, 48, 51, 54, 57, 60, 63, 66, 69, 72, 75, 78, 81, 84, 87, 90, 93, 96, 99, 102, 105, 108, 111, 114, 117, 120, 123, 126, 129, 132, 135, 138, 141, 144, 147]\n"
     ]
    },
    {
     "data": {
      "image/png": "[encoded data removed]",
      "text/plain": [
       "<Figure size 432x288 with 1 Axes>"
      ]
     },
     "metadata": {
      "needs_background": "light"
     },
     "output_type": "display_data"
    }
   ],
   "source": [
    "X = range(1, 50)\n",
    "Y = [value * 3 for value in X]\n",
    "print('Values of X:')\n",
    "print(*range(1,50))\n",
    "print('Values of Y (thrice of X):')\n",
    "print(Y)\n",
    "plt.plot(X, Y)\n",
    "plt.xlabel('x - axis')\n",
    "plt.ylabel('y - axis')\n",
    "plt.title('Draw a line.')\n",
    "plt.show()"
   ]
  },
  {
   "cell_type": "code",
   "execution_count": 25,
   "id": "6c08857b",
   "metadata": {},
   "outputs": [
    {
     "data": {
      "image/png": "[encoded data removed]",
      "text/plain": [
       "<Figure size 432x288 with 1 Axes>"
      ]
     },
     "metadata": {
      "needs_background": "light"
     },
     "output_type": "display_data"
    }
   ],
   "source": [
    "def plot_line_from_file(file_path):\n",
    "    with open(file_path, 'r') as file:\n",
    "        lines = file.readlines()\n",
    "    x_values = []\n",
    "    y_values = []\n",
    "    for line in lines:\n",
    "        x, y = map(float, line.strip().split())\n",
    "        x_values.append(x)\n",
    "        y_values.append(y)\n",
    "    plt.plot(x_values, y_values)\n",
    "    plt.xlabel('X Axis')\n",
    "    plt.ylabel('Y Axis')\n",
    "    plt.title('Line Plot')\n",
    "    plt.show()\n",
    "file_path = 'temp.txt' \n",
    "plot_line_from_file(file_path)\n"
   ]
  },
  {
   "cell_type": "code",
   "execution_count": 12,
   "id": "1c19b434",
   "metadata": {},
   "outputs": [
    {
     "data": {
      "image/png": "[encoded data removed]",
      "text/plain": [
       "<Figure size 432x288 with 1 Axes>"
      ]
     },
     "metadata": {
      "needs_background": "light"
     },
     "output_type": "display_data"
    }
   ],
   "source": [
    "def plot_lines():\n",
    "    x = [1, 2, 3, 4, 5]\n",
    "    y1 = [2, 3, 5, 7, 11]\n",
    "    y2 = [1, 4, 6, 8, 10]\n",
    "\n",
    "    plt.plot(x, y1, label='Line 1', color='blue', linewidth=1)\n",
    "    plt.plot(x, y2, label='Line 2', color='green', linewidth=)\n",
    "\n",
    "    plt.legend()\n",
    "    plt.xlabel('X Axis')\n",
    "    plt.ylabel('Y Axis')\n",
    "    plt.title('Two Lines Plot')\n",
    "\n",
    "    plt.show()\n",
    "\n",
    "plot_lines()"
   ]
  },
  {
   "cell_type": "code",
   "execution_count": 26,
   "id": "1176dcbe",
   "metadata": {},
   "outputs": [
    {
     "data": {
      "image/png": "[encoded data removed]",
      "text/plain": [
       "<Figure size 432x288 with 1 Axes>"
      ]
     },
     "metadata": {
      "needs_background": "light"
     },
     "output_type": "display_data"
    }
   ],
   "source": [
    "np.random.seed(42)\n",
    "num_points = 20\n",
    "x = np.random.rand(num_points) * 10\n",
    "y = np.random.rand(num_points) * 5   \n",
    "\n",
    "plt.scatter(x, y, color='red', marker='o', label='Data Points')  \n",
    "\n",
    "plt.xlabel('X Axis Label')\n",
    "plt.ylabel('Y Axis Label')\n",
    "plt.title('Quantities with X and Y Positions')\n",
    "\n",
    "plt.legend()\n",
    "plt.grid(True)  \n",
    "plt.show()"
   ]
  },
  {
   "cell_type": "code",
   "execution_count": 27,
   "id": "83da222e",
   "metadata": {},
   "outputs": [
    {
     "data": {
      "image/png": "[encoded data removed]",
      "text/plain": [
       "<Figure size 432x288 with 1 Axes>"
      ]
     },
     "metadata": {
      "needs_background": "light"
     },
     "output_type": "display_data"
    }
   ],
   "source": [
    "x1 = np.random.rand(10)\n",
    "y1 = np.random.rand(10)\n",
    "x2 = np.random.rand(10)\n",
    "y2 = np.random.rand(10)\n",
    "fig, ax = plt.subplots()\n",
    "\n",
    "scatter1 = ax.scatter(x1, y1, color='green', label='Group 1')\n",
    "scatter2 = ax.scatter(x2, y2, color='blue', label='Group 2')\n",
    "ax.legend()\n",
    "\n",
    "ax.set_xlabel('X Axis')\n",
    "ax.set_ylabel('Y Axis')\n",
    "ax.set_title('Scatter Plot with Subplots')\n",
    "ax.set_xticks(np.arange(0, 1.1, 0.2))\n",
    "ax.set_yticks(np.arange(0, 1.1, 0.2))\n",
    "ax.grid(True)\n",
    "plt.show()\n"
   ]
  },
  {
   "cell_type": "code",
   "execution_count": 17,
   "id": "5f3d2b76",
   "metadata": {},
   "outputs": [
    {
     "data": {
      "image/png": "[encoded data removed]",
      "text/plain": [
       "<Figure size 432x288 with 1 Axes>"
      ]
     },
     "metadata": {
      "needs_background": "light"
     },
     "output_type": "display_data"
    }
   ],
   "source": [
    "np.random.seed(30) \n",
    "x = np.random.rand(50)\n",
    "y = np.random.rand(50)\n",
    "plt.scatter(x, y)\n",
    "\n",
    "plt.xlabel('X Axis')\n",
    "plt.ylabel('Y Axis')\n",
    "plt.title('Random Scatter Plot')\n",
    "plt.show()\n"
   ]
  },
  {
   "cell_type": "code",
   "execution_count": 21,
   "id": "911ab5cc",
   "metadata": {},
   "outputs": [
    {
     "data": {
      "image/png": "[encoded data removed]",
      "text/plain": [
       "<Figure size 432x288 with 1 Axes>"
      ]
     },
     "metadata": {
      "needs_background": "light"
     },
     "output_type": "display_data"
    }
   ],
   "source": [
    "products = ['car', 'bike', 'auto', 'cycle']\n",
    "sales = [350, 500, 400, 600]\n",
    "\n",
    "plt.bar(products, sales, color='skyblue')\n",
    "plt.xlabel('Products')\n",
    "plt.ylabel('Sales')\n",
    "plt.title('Sales of Different Products')\n",
    "plt.show()\n"
   ]
  },
  {
   "cell_type": "code",
   "execution_count": 22,
   "id": "e634400d",
   "metadata": {},
   "outputs": [
    {
     "data": {
      "image/png": "[encoded data removed]",
      "text/plain": [
       "<Figure size 432x288 with 1 Axes>"
      ]
     },
     "metadata": {
      "needs_background": "light"
     },
     "output_type": "display_data"
    }
   ],
   "source": [
    "data = np.random.randn(1000)\n",
    "\n",
    "plt.hist(data, bins=20, color='skyblue', edgecolor='black')\n",
    "plt.xlabel('Value')\n",
    "plt.ylabel('Frequency')\n",
    "plt.title('Histogram of Random Data')\n",
    "plt.show()"
   ]
  },
  {
   "cell_type": "code",
   "execution_count": 23,
   "id": "7e68edd2",
   "metadata": {},
   "outputs": [
    {
     "data": {
      "image/png": "[encoded data removed]",
      "text/plain": [
       "<Figure size 576x576 with 1 Axes>"
      ]
     },
     "metadata": {},
     "output_type": "display_data"
    }
   ],
   "source": [
    "import matplotlib.pyplot as plt\n",
    "\n",
    "categories = ['Housing', 'Transportation', 'Food', 'Utilities', 'Entertainment', 'Others']\n",
    "expenses = [1500, 600, 800, 300, 400, 700]\n",
    "\n",
    "plt.figure(figsize=(8, 8))\n",
    "plt.pie(expenses, labels=categories, autopct='%1.1f%%', startangle=140, colors=plt.cm.tab20.colors)\n",
    "plt.title('Expense Distribution')\n",
    "plt.show()\n"
   ]
  }
 ],
 "metadata": {
  "kernelspec": {
   "display_name": "Python 3 (ipykernel)",
   "language": "python",
   "name": "python3"
  },
  "language_info": {
   "codemirror_mode": {
    "name": "ipython",
    "version": 3
   },
   "file_extension": ".py",
   "mimetype": "text/x-python",
   "name": "python",
   "nbconvert_exporter": "python",
   "pygments_lexer": "ipython3",
   "version": "3.9.12"
  }
 },
 "nbformat": 4,
 "nbformat_minor": 5
}
